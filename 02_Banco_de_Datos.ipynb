{
 "cells": [
  {
   "cell_type": "markdown",
   "metadata": {},
   "source": [
    "# **1. Configuración del Ambiente**\n",
    "\n",
    "\n",
    "---"
   ]
  },
  {
   "cell_type": "code",
   "execution_count": 13,
   "metadata": {},
   "outputs": [],
   "source": [
    "import pandas as pd\n",
    "from sqlalchemy import create_engine, MetaData, Table, Column, Integer, Float, String, DateTime, inspect, text\n",
    "global df_itens_pedidos, df_pedidos, df_productos, df_vendedores, database"
   ]
  },
  {
   "cell_type": "markdown",
   "metadata": {},
   "source": [
    "# **2. Obtención de Datos (CSV in Data)**\n",
    "\n",
    "\n",
    "---"
   ]
  },
  {
   "cell_type": "code",
   "execution_count": 14,
   "metadata": {},
   "outputs": [],
   "source": [
    "df_items_pedidos = pd.read_csv('Data/df_items_pedidos.csv')\n",
    "df_pedidos = pd.read_csv('Data/df_pedidos.csv')\n",
    "df_productos = pd.read_csv('Data/df_productos.csv')\n",
    "df_vendedores = pd.read_csv('Data/df_vendedores.csv')"
   ]
  },
  {
   "cell_type": "code",
   "execution_count": 15,
   "metadata": {},
   "outputs": [
    {
     "name": "stdout",
     "output_type": "stream",
     "text": [
      "items pedidos \n",
      "<class 'pandas.core.frame.DataFrame'>\n",
      "RangeIndex: 24527 entries, 0 to 24526\n",
      "Data columns (total 8 columns):\n",
      " #   Column          Non-Null Count  Dtype  \n",
      "---  ------          --------------  -----  \n",
      " 0   id_recibo       24527 non-null  int64  \n",
      " 1   producto_id     24527 non-null  int64  \n",
      " 2   pedido_id       24527 non-null  int64  \n",
      " 3   cantidad        24527 non-null  int64  \n",
      " 4   valor_unitario  24527 non-null  int64  \n",
      " 5   valor_total     24527 non-null  int64  \n",
      " 6   ciudad          24527 non-null  object \n",
      " 7   costo_envio     24527 non-null  float64\n",
      "dtypes: float64(1), int64(6), object(1)\n",
      "memory usage: 1.5+ MB\n",
      "None\n",
      "pedidos\n",
      "<class 'pandas.core.frame.DataFrame'>\n",
      "RangeIndex: 24526 entries, 0 to 24525\n",
      "Data columns (total 7 columns):\n",
      " #   Column        Non-Null Count  Dtype \n",
      "---  ------        --------------  ----- \n",
      " 0   pedido_id     24526 non-null  int64 \n",
      " 1   producto_id   24526 non-null  int64 \n",
      " 2   vendedor_id   24526 non-null  int64 \n",
      " 3   fecha_compra  24526 non-null  object\n",
      " 4   total         24526 non-null  int64 \n",
      " 5   año           24526 non-null  int64 \n",
      " 6   mes           24526 non-null  int64 \n",
      "dtypes: int64(6), object(1)\n",
      "memory usage: 1.3+ MB\n",
      "None\n",
      "productos\n",
      "<class 'pandas.core.frame.DataFrame'>\n",
      "RangeIndex: 205 entries, 0 to 204\n",
      "Data columns (total 6 columns):\n",
      " #   Column       Non-Null Count  Dtype  \n",
      "---  ------       --------------  -----  \n",
      " 0   producto_id  205 non-null    int64  \n",
      " 1   producto     205 non-null    object \n",
      " 2   precio       205 non-null    int64  \n",
      " 3   marca        205 non-null    object \n",
      " 4   sku          205 non-null    float64\n",
      " 5   condicion    205 non-null    object \n",
      "dtypes: float64(1), int64(2), object(3)\n",
      "memory usage: 9.7+ KB\n",
      "None\n",
      "vendedores\n",
      "<class 'pandas.core.frame.DataFrame'>\n",
      "RangeIndex: 5 entries, 0 to 4\n",
      "Data columns (total 2 columns):\n",
      " #   Column           Non-Null Count  Dtype \n",
      "---  ------           --------------  ----- \n",
      " 0   vendedor_id      5 non-null      int64 \n",
      " 1   nombre_vendedor  5 non-null      object\n",
      "dtypes: int64(1), object(1)\n",
      "memory usage: 208.0+ bytes\n",
      "None\n"
     ]
    }
   ],
   "source": [
    "print(\"items pedidos \")\n",
    "print(df_items_pedidos.info())\n",
    "print(\"pedidos\")\n",
    "print(df_pedidos.info())\n",
    "print(\"productos\")\n",
    "print(df_productos.info())\n",
    "print(\"vendedores\")\n",
    "print(df_vendedores.info())"
   ]
  },
  {
   "cell_type": "markdown",
   "metadata": {},
   "source": [
    "# **3 Levantando Banco de Datos**\n",
    "\n",
    "\n",
    "---"
   ]
  },
  {
   "cell_type": "code",
   "execution_count": 16,
   "metadata": {},
   "outputs": [],
   "source": [
    "# Definimos la función para crear la conexión y guardar los dataframes en una base de datos SQLite\n",
    "def crear_conexion():\n",
    "    # Creamos un engine de tipo SQLite\n",
    "    engine = create_engine('sqlite:///database.db', echo=False)\n",
    "    \n",
    "    # Creamos un objeto MetaData\n",
    "    metadata = MetaData()\n",
    "\n",
    "    # Creamos manualmente las tablas en la base de datos\n",
    "    items_pedidos_table = Table('items_pedidos', metadata,\n",
    "                                 Column('id_recibo', Integer),\n",
    "                                 Column('producto_id', Integer),\n",
    "                                 Column('pedido_id', Integer),\n",
    "                                 Column('cantidad', Integer),\n",
    "                                 Column('valor_unitario', Integer),\n",
    "                                 Column('valor_total', Integer),\n",
    "                                 Column('ciudad', String),\n",
    "                                 Column('costo_envio', Float)\n",
    "                                )\n",
    "    pedidos_table = Table('pedidos', metadata,\n",
    "                           Column('pedido_id', Integer),\n",
    "                           Column('producto_id', Integer),\n",
    "                           Column('vendedor_id', Integer),\n",
    "                           Column('fecha_compra', DateTime),\n",
    "                           Column('total', Integer),\n",
    "                           Column('año', Integer),\n",
    "                           Column('mes', Integer)\n",
    "                          )\n",
    "    productos_table = Table('productos', metadata,\n",
    "                             Column('producto_id', Integer),\n",
    "                             Column('producto', String),\n",
    "                             Column('precio', Integer),\n",
    "                             Column('marca', String),\n",
    "                             Column('sku', Float),\n",
    "                             Column('condicion', String)\n",
    "                            )\n",
    "    vendedores_table = Table('vendedores', metadata,\n",
    "                              Column('vendedor_id', Integer),\n",
    "                              Column('nombre_vendedor', String)\n",
    "                             )\n",
    "\n",
    "    # Creamos las tablas en la base de datos\n",
    "    metadata.create_all(engine)\n",
    "    \n",
    "    # Insertamos los datos de los dataframes en las tablas correspondientes\n",
    "    df_items_pedidos.to_sql('items_pedidos', engine, if_exists='replace', index=False)\n",
    "    df_pedidos.to_sql('pedidos', engine, if_exists='replace', index=False)\n",
    "    df_productos.to_sql('productos', engine, if_exists='replace', index=False)\n",
    "    df_vendedores.to_sql('vendedores', engine, if_exists='replace', index=False)"
   ]
  },
  {
   "cell_type": "markdown",
   "metadata": {},
   "source": [
    "##### Pruebas de la base de datos"
   ]
  },
  {
   "cell_type": "code",
   "execution_count": 17,
   "metadata": {},
   "outputs": [
    {
     "name": "stdout",
     "output_type": "stream",
     "text": [
      "Nombres de las tablas en la base de datos:\n",
      "items_pedidos\n",
      "pedidos\n",
      "productos\n",
      "vendedores\n"
     ]
    }
   ],
   "source": [
    "# Creamos un engine de tipo SQLite\n",
    "engine = create_engine('sqlite:///database.db')\n",
    "\n",
    "# Llamamos a la función para crear la conexión y guardar los dataframes en la base de datos\n",
    "crear_conexion()\n",
    "\n",
    "# Creamos un objeto Inspector para examinar la base de datos\n",
    "inspector = inspect(engine)\n",
    "\n",
    "# Obtenemos los nombres de las tablas en la base de datos\n",
    "tabla_nombres = inspector.get_table_names()\n",
    "\n",
    "# Imprimimos los nombres de las tablas\n",
    "print(\"Nombres de las tablas en la base de datos:\")\n",
    "for tabla_nombre in tabla_nombres:\n",
    "    print(tabla_nombre)"
   ]
  },
  {
   "cell_type": "code",
   "execution_count": 18,
   "metadata": {},
   "outputs": [
    {
     "name": "stdout",
     "output_type": "stream",
     "text": [
      "(1, 'Ana Duarte')\n",
      "(2, 'Daniel Siqueira')\n",
      "(3, 'Nadia Oliveira')\n",
      "(4, 'Millena Pereira')\n",
      "(5, 'Paulo Calanca')\n"
     ]
    }
   ],
   "source": [
    "# Creamos un engine de tipo SQLite\n",
    "engine = create_engine('sqlite:///database.db')\n",
    "\n",
    "# Obtenemos una conexión a la base de datos\n",
    "connection = engine.connect()\n",
    "\n",
    "# Creamos un objeto Text con la consulta SQL\n",
    "consulta_sql = text(\"SELECT * FROM vendedores\")\n",
    "\n",
    "# Ejecutamos la consulta y obtenemos los resultados\n",
    "resultados = connection.execute(consulta_sql)\n",
    "\n",
    "# Imprimimos los resultados\n",
    "for row in resultados:\n",
    "    print(row)\n",
    "\n",
    "# Cerramos la conexión\n",
    "connection.close()"
   ]
  }
 ],
 "metadata": {
  "kernelspec": {
   "display_name": "Python 3",
   "language": "python",
   "name": "python3"
  },
  "language_info": {
   "codemirror_mode": {
    "name": "ipython",
    "version": 3
   },
   "file_extension": ".py",
   "mimetype": "text/x-python",
   "name": "python",
   "nbconvert_exporter": "python",
   "pygments_lexer": "ipython3",
   "version": "3.10.7"
  }
 },
 "nbformat": 4,
 "nbformat_minor": 2
}
